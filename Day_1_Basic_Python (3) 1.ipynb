{
  "nbformat": 4,
  "nbformat_minor": 0,
  "metadata": {
    "colab": {
      "provenance": []
    },
    "kernelspec": {
      "name": "python3",
      "display_name": "Python 3"
    },
    "language_info": {
      "name": "python"
    }
  },
  "cells": [
    {
      "cell_type": "code",
      "source": [
        "#range function\n",
        "for i in range(2,11,1):\n",
        "  print(i)\n",
        "\n"
      ],
      "metadata": {
        "id": "WN0cXtTtH5nL",
        "outputId": "99273caa-2168-4d0c-f1eb-da9c3b4e20ea",
        "colab": {
          "base_uri": "https://localhost:8080/"
        }
      },
      "execution_count": 23,
      "outputs": [
        {
          "output_type": "stream",
          "name": "stdout",
          "text": [
            "2\n",
            "3\n",
            "4\n",
            "5\n",
            "6\n",
            "7\n",
            "8\n",
            "9\n",
            "10\n"
          ]
        }
      ]
    },
    {
      "cell_type": "code",
      "source": [
        "#length of the string\n",
        "\n",
        "s = input(\"Enter a String\")\n",
        "c=0\n",
        "for i in s:\n",
        "  c=c+1\n",
        "print(\"length=\", c)\n",
        "#using len function\n",
        "print(len(s))"
      ],
      "metadata": {
        "id": "zJQaySeULUmG",
        "outputId": "2f4a38c9-43d0-406d-c4fe-14a433086dbd",
        "colab": {
          "base_uri": "https://localhost:8080/"
        }
      },
      "execution_count": 25,
      "outputs": [
        {
          "output_type": "stream",
          "name": "stdout",
          "text": [
            "Enter a StringAshis\n",
            "length= 5\n",
            "5\n"
          ]
        }
      ]
    }
  ]
}